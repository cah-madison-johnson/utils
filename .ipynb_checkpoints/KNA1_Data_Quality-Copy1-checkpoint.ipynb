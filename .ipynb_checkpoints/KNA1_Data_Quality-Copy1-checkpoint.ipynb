{
 "cells": [
  {
   "cell_type": "markdown",
   "id": "19bc7cc9-df4b-49f6-8965-633663395d3c",
   "metadata": {
    "jp-MarkdownHeadingCollapsed": true,
    "tags": []
   },
   "source": [
    "## KNA1 Data Quality\n",
    "\n",
    "**Created By**: Maddie Johnson<br>\n",
    " **Edited By**: Maddie Johnson<br>\n",
    " **Created on**: July 17, 2023<br>\n",
    " **Edited on**: July 19, 2023<br>"
   ]
  },
  {
   "cell_type": "markdown",
   "id": "86226482-80c1-4f8a-830d-fcae8c461ab3",
   "metadata": {},
   "source": [
    "## Notebook Config"
   ]
  },
  {
   "cell_type": "code",
   "execution_count": null,
   "id": "ed7957eb-b65c-40e7-abcf-3d859ed60d33",
   "metadata": {},
   "outputs": [],
   "source": [
    "# Display settings\n",
    "## Auto reload modules & inline plots\n",
    "%reload_ext autoreload\n",
    "%autoreload 2\n",
    "%matplotlib inline"
   ]
  },
  {
   "cell_type": "markdown",
   "id": "a2170a3f-b42f-4a8f-89c5-8aa0bea0ee19",
   "metadata": {},
   "source": [
    "## Package Import and Initialization"
   ]
  },
  {
   "cell_type": "code",
   "execution_count": null,
   "id": "ab8a3079-a82c-4ad2-961c-52a14792913e",
   "metadata": {},
   "outputs": [],
   "source": [
    "import os                            #For work with native operating system and directories\n",
    "from pathlib import Path             #For working with file paths and directories\n",
    "from google.cloud import bigquery          #The BigQuery API\n",
    "import datetime as dt #For inputing any date or time information\n",
    "from datetime import timezone #For inputing timezones\n",
    "import matplotlib.pyplot as plt      #For plotting\n",
    "import numpy as np                         #For scientific computation\n",
    "import pydata_google_auth                  #For authentication against Google \n",
    "import pandas as pd                        #For data manipulation and bgq --> pandas conversion\n",
    "import pandas_gbq as pd_gbq #Import BigQuery data to create a pandas dataframe\n",
    "import plotly.graph_objects as go # interactive plots\n",
    "import pytz #For timezone calculations\n",
    "import seaborn as sns                #For plotting\n",
    "import warnings\n",
    "\n",
    "\n",
    "import os\n",
    "import sys\n",
    "PROJECT_ROOT = os.path.abspath(os.path.join(\n",
    "    os.getcwd(),\n",
    "    os.pardir)\n",
    ")\n",
    "if (PROJECT_ROOT not in sys.path):\n",
    "    sys.path.append(PROJECT_ROOT)"
   ]
  },
  {
   "cell_type": "code",
   "execution_count": null,
   "id": "5257aaaf",
   "metadata": {
    "scrolled": true
   },
   "outputs": [],
   "source": [
    "import utils as ut"
   ]
  },
  {
   "cell_type": "code",
   "execution_count": null,
   "id": "d5214b2a-15d0-47c3-9d2c-302c05104095",
   "metadata": {},
   "outputs": [],
   "source": [
    "pd.set_option('display.max_columns', None)\n",
    "pd.options.display.float_format = '{:.4f}'.format\n",
    "warnings.filterwarnings('ignore')"
   ]
  },
  {
   "cell_type": "markdown",
   "id": "dcdd6339-3470-42b0-8333-6d6bb133a6dd",
   "metadata": {},
   "source": [
    "## Initialize BigQuery Connection"
   ]
  },
  {
   "cell_type": "code",
   "execution_count": null,
   "id": "dafcbbfe-3e67-4d1a-86c1-70cbc635007b",
   "metadata": {},
   "outputs": [],
   "source": [
    "## Actual authentication step - Authentication token is saved on server running Jupyter (pydata_google_auth may not work in Vertex AI unless there is a token generated)\n",
    "credentials = pydata_google_auth.get_user_credentials(['https://www.googleapis.com/auth/bigquery'])"
   ]
  },
  {
   "cell_type": "code",
   "execution_count": null,
   "id": "23b5cc81-317a-4f20-bfb7-4398222dfde1",
   "metadata": {},
   "outputs": [],
   "source": [
    "## Update project ID depending on which datasets you are needing to access\n",
    "project_id = 'edr-gfssdm-pr-cah'"
   ]
  },
  {
   "cell_type": "markdown",
   "id": "46c7366a-4c45-46ca-b347-a1c7f0aaff75",
   "metadata": {
    "tags": []
   },
   "source": [
    "## Set Data Query Logic"
   ]
  },
  {
   "cell_type": "markdown",
   "id": "c4e5265c-40fe-48fc-88e1-0e70b4be864b",
   "metadata": {},
   "source": [
    "In the SQL query make sure to only include columns that need to be analyzed from the table where data quality is being checked."
   ]
  },
  {
   "cell_type": "code",
   "execution_count": null,
   "id": "32d2948e-a5e2-4660-9e3f-25a02efc46ef",
   "metadata": {},
   "outputs": [],
   "source": [
    "table_query = \"\"\"\n",
    "SELECT DISTINCT\n",
    "    KUNNR,\n",
    "    NAME1,\n",
    "    NAME2,\n",
    "    STRAS,\n",
    "    ORT01,\n",
    "    PSTLZ,\n",
    "    REGIO,\n",
    "    LAND1,\n",
    "    KTOKD,\n",
    "    BRSCH,\n",
    "    LOEVM\n",
    "    \n",
    "    \n",
    "    \n",
    "FROM\n",
    "  `edna-data-pr-cah.VI0_PHM_ORP_PE1_PH1_NP.KNA1_CV`\n",
    "LIMIT \n",
    "    100\n",
    "    \n",
    "    \"\"\""
   ]
  },
  {
   "cell_type": "markdown",
   "id": "0c6e15f3-4b5d-4a0a-954e-15af36366cd7",
   "metadata": {},
   "source": [
    "## Load Data"
   ]
  },
  {
   "cell_type": "code",
   "execution_count": null,
   "id": "28b58df4-c0dd-4197-b7ac-f462a03c4a82",
   "metadata": {},
   "outputs": [],
   "source": [
    "## Pandas read_gbq to read SQL query above and put into a DataFrame\n",
    "table_df = pd.read_gbq(table_query, project_id=project_id, dialect='standard', credentials=credentials)"
   ]
  },
  {
   "cell_type": "code",
   "execution_count": null,
   "id": "2af135b6-5f17-4da6-bb08-3abe311c49c3",
   "metadata": {},
   "outputs": [],
   "source": [
    "table_df"
   ]
  },
  {
   "cell_type": "markdown",
   "id": "6aeaf065-6456-449a-811d-a7178f999f6d",
   "metadata": {},
   "source": [
    "## Data Analysis"
   ]
  },
  {
   "cell_type": "markdown",
   "id": "daf41347-b4e1-4cc2-80d8-a85786c0da1f",
   "metadata": {},
   "source": [
    "### Helper Functions"
   ]
  },
  {
   "cell_type": "markdown",
   "id": "15a5e872-39f7-48b4-af64-71d7e91e8122",
   "metadata": {},
   "source": [
    "Do not change helper functions, these can be run regardless of table"
   ]
  },
  {
   "cell_type": "markdown",
   "id": "b3270f9f-6e56-4378-b4dc-75bb0e525e7a",
   "metadata": {},
   "source": [
    "#### Completeness function"
   ]
  },
  {
   "cell_type": "markdown",
   "id": "28b7b403-f139-4ebd-a54a-b271ff36c4f8",
   "metadata": {},
   "source": [
    "#### Uniqueness function"
   ]
  },
  {
   "cell_type": "markdown",
   "id": "9ac26d45-f6b3-43c2-9a22-ffe36e42dc22",
   "metadata": {},
   "source": [
    "### Critical Data Elements"
   ]
  },
  {
   "cell_type": "code",
   "execution_count": null,
   "id": "9dd9ef87-cb7c-4e6d-9843-ec63181194f5",
   "metadata": {},
   "outputs": [],
   "source": [
    "## list of critical data elements\n",
    "crt_dt_elem = ['KUNNR','NAME1','STRAS','ORT01','PSTLZ','REGIO','LAND1','KTOKD']"
   ]
  },
  {
   "cell_type": "code",
   "execution_count": null,
   "id": "2ee4a0a5-698a-4453-a9da-816173b89e87",
   "metadata": {},
   "outputs": [],
   "source": [
    "## list of data elements that need to undergoe uniqueness check\n",
    "nqnss_dt_elem = ['KUNNR']"
   ]
  },
  {
   "cell_type": "markdown",
   "id": "91361a91-66e1-4c82-8c0c-52777168a94a",
   "metadata": {},
   "source": [
    "### Data Metrics"
   ]
  },
  {
   "cell_type": "markdown",
   "id": "32bc3225-69a0-4d2b-9f3e-51e89bc91b28",
   "metadata": {},
   "source": [
    "#### Matrix creation"
   ]
  },
  {
   "cell_type": "markdown",
   "id": "24a8662e-d610-4b41-9f11-9126f07df1d0",
   "metadata": {},
   "source": [
    "default base matrix to use for data quality scoring equation"
   ]
  },
  {
   "cell_type": "code",
   "execution_count": null,
   "id": "b900e16c",
   "metadata": {},
   "outputs": [],
   "source": [
    "child = ut.MatrixConsolidation(table_df, crt_dt_elem, nqnss_dt_elem,\"KNA1\")"
   ]
  },
  {
   "cell_type": "markdown",
   "id": "1432d725-22b5-4fed-bf0b-c722342d3904",
   "metadata": {},
   "source": [
    "##### Missing Data Matrix"
   ]
  },
  {
   "cell_type": "code",
   "execution_count": null,
   "id": "1d00b755",
   "metadata": {},
   "outputs": [],
   "source": [
    "child.def_cmplt_df()"
   ]
  },
  {
   "cell_type": "markdown",
   "id": "4816b0fc-4ff8-49f8-aeef-8760d8cdd321",
   "metadata": {},
   "source": [
    "##### Uniqueness Data Matrix"
   ]
  },
  {
   "cell_type": "code",
   "execution_count": null,
   "id": "076bc378",
   "metadata": {
    "scrolled": true
   },
   "outputs": [],
   "source": [
    "child.def_uniq_df()"
   ]
  },
  {
   "cell_type": "markdown",
   "id": "e956a2df-e04a-4cc6-96d4-d3aea89d4fc9",
   "metadata": {},
   "source": [
    "#### Matrix Consolidation"
   ]
  },
  {
   "cell_type": "code",
   "execution_count": null,
   "id": "01fe49f7",
   "metadata": {},
   "outputs": [],
   "source": [
    "child.dq_df()"
   ]
  },
  {
   "cell_type": "code",
   "execution_count": null,
   "id": "fe7858e5",
   "metadata": {},
   "outputs": [],
   "source": [
    "child.dataset_score()"
   ]
  },
  {
   "cell_type": "code",
   "execution_count": null,
   "id": "cc7eaab1",
   "metadata": {},
   "outputs": [],
   "source": [
    "# child.dataset_score().iloc[0].iloc[0]"
   ]
  },
  {
   "cell_type": "markdown",
   "id": "d8e5da82-b462-41e7-ba37-e63695883fb8",
   "metadata": {},
   "source": [
    "### Data Visualization"
   ]
  },
  {
   "cell_type": "code",
   "execution_count": null,
   "id": "5d4b3a50",
   "metadata": {},
   "outputs": [],
   "source": [
    "child1 = ut.DataVisualization(child.dataset_score(),\"KNA1\")"
   ]
  },
  {
   "cell_type": "code",
   "execution_count": null,
   "id": "7f24302b",
   "metadata": {},
   "outputs": [],
   "source": [
    "child1.fig_card()"
   ]
  },
  {
   "cell_type": "code",
   "execution_count": null,
   "id": "9f305821-eedf-4a6e-9758-4577d2cbf7c4",
   "metadata": {},
   "outputs": [],
   "source": [
    "## dataset score card\n",
    "import plotly.graph_objects as go\n",
    "\n",
    "fig_card = go.Figure(go.Indicator(\n",
    "    mode = \"number\",\n",
    "    value = child.dataset_score().KNA1_SCORE.iloc[0],\n",
    "    number = {'suffix': \"%\"},\n",
    "    title = {\"text\": \"Dataset Score<br><span style='font-size:0.8em;color:gray'>KNA1</span>\"},\n",
    "    ))\n",
    "\n",
    "fig_card.update_layout(paper_bgcolor = \"lightgray\")\n",
    "\n",
    "fig_card.show()"
   ]
  },
  {
   "cell_type": "code",
   "execution_count": null,
   "id": "86c80335-7e48-432c-8f32-d701c827b507",
   "metadata": {},
   "outputs": [],
   "source": [
    "import plotly.express as px\n",
    "\n",
    "fig = px.imshow(dq_df,\n",
    "                labels=dict(x=\"Column\", y=\"Record Number\", color=\"Score\"),\n",
    "                text_auto=True, \n",
    "                zmin=0, \n",
    "                zmax=1, \n",
    "                color_continuous_scale=[\"red\", \"yellow\", \"green\"])\n",
    "\n",
    "fig.update_layout(\n",
    "    title='KNA1 Heatmap',\n",
    "    title_x=0.5)\n",
    "\n",
    "fig.show()"
   ]
  },
  {
   "cell_type": "code",
   "execution_count": null,
   "id": "b2fc9a43",
   "metadata": {},
   "outputs": [],
   "source": []
  }
 ],
 "metadata": {
  "kernelspec": {
   "display_name": "Python 3 (ipykernel)",
   "language": "python",
   "name": "python3"
  },
  "language_info": {
   "codemirror_mode": {
    "name": "ipython",
    "version": 3
   },
   "file_extension": ".py",
   "mimetype": "text/x-python",
   "name": "python",
   "nbconvert_exporter": "python",
   "pygments_lexer": "ipython3",
   "version": "3.10.9"
  }
 },
 "nbformat": 4,
 "nbformat_minor": 5
}
