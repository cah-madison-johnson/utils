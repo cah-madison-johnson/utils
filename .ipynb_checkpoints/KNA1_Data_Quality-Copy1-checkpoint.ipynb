{
 "cells": [
  {
   "cell_type": "markdown",
   "id": "19bc7cc9-df4b-49f6-8965-633663395d3c",
   "metadata": {
    "jp-MarkdownHeadingCollapsed": true,
    "tags": []
   },
   "source": [
    "## KNA1 Data Quality\n",
    "\n",
    "**Created By**: Maddie Johnson<br>\n",
    " **Edited By**: Maddie Johnson<br>\n",
    " **Created on**: July 17, 2023<br>\n",
    " **Edited on**: July 19, 2023<br>"
   ]
  },
  {
   "cell_type": "markdown",
   "id": "86226482-80c1-4f8a-830d-fcae8c461ab3",
   "metadata": {},
   "source": [
    "## Notebook Config"
   ]
  },
  {
   "cell_type": "code",
   "execution_count": 1,
   "id": "ed7957eb-b65c-40e7-abcf-3d859ed60d33",
   "metadata": {},
   "outputs": [],
   "source": [
    "# Display settings\n",
    "## Auto reload modules & inline plots\n",
    "%reload_ext autoreload\n",
    "%autoreload 2\n",
    "%matplotlib inline"
   ]
  },
  {
   "cell_type": "markdown",
   "id": "a2170a3f-b42f-4a8f-89c5-8aa0bea0ee19",
   "metadata": {},
   "source": [
    "## Package Import and Initialization"
   ]
  },
  {
   "cell_type": "code",
   "execution_count": 2,
   "id": "ab8a3079-a82c-4ad2-961c-52a14792913e",
   "metadata": {},
   "outputs": [],
   "source": [
    "import os                            #For work with native operating system and directories\n",
    "from pathlib import Path             #For working with file paths and directories\n",
    "from google.cloud import bigquery          #The BigQuery API\n",
    "import datetime as dt #For inputing any date or time information\n",
    "from datetime import timezone #For inputing timezones\n",
    "import matplotlib.pyplot as plt      #For plotting\n",
    "import numpy as np                         #For scientific computation\n",
    "import pydata_google_auth                  #For authentication against Google \n",
    "import pandas as pd                        #For data manipulation and bgq --> pandas conversion\n",
    "import pandas_gbq as pd_gbq #Import BigQuery data to create a pandas dataframe\n",
    "import plotly.graph_objects as go # interactive plots\n",
    "import pytz #For timezone calculations\n",
    "import seaborn as sns                #For plotting\n",
    "import warnings\n",
    "\n",
    "\n",
    "import os\n",
    "import sys\n",
    "PROJECT_ROOT = os.path.abspath(os.path.join(\n",
    "    os.getcwd(),\n",
    "    os.pardir)\n",
    ")\n",
    "if (PROJECT_ROOT not in sys.path):\n",
    "    sys.path.append(PROJECT_ROOT)"
   ]
  },
  {
   "cell_type": "code",
   "execution_count": 3,
   "id": "5257aaaf",
   "metadata": {
    "scrolled": true
   },
   "outputs": [],
   "source": [
    "import utils as ut"
   ]
  },
  {
   "cell_type": "code",
   "execution_count": 4,
   "id": "d5214b2a-15d0-47c3-9d2c-302c05104095",
   "metadata": {},
   "outputs": [],
   "source": [
    "pd.set_option('display.max_columns', None)\n",
    "pd.options.display.float_format = '{:.4f}'.format\n",
    "warnings.filterwarnings('ignore')"
   ]
  },
  {
   "cell_type": "markdown",
   "id": "dcdd6339-3470-42b0-8333-6d6bb133a6dd",
   "metadata": {},
   "source": [
    "## Initialize BigQuery Connection"
   ]
  },
  {
   "cell_type": "code",
   "execution_count": 5,
   "id": "dafcbbfe-3e67-4d1a-86c1-70cbc635007b",
   "metadata": {},
   "outputs": [],
   "source": [
    "## Actual authentication step - Authentication token is saved on server running Jupyter (pydata_google_auth may not work in Vertex AI unless there is a token generated)\n",
    "credentials = pydata_google_auth.get_user_credentials(['https://www.googleapis.com/auth/bigquery'])"
   ]
  },
  {
   "cell_type": "code",
   "execution_count": 6,
   "id": "23b5cc81-317a-4f20-bfb7-4398222dfde1",
   "metadata": {},
   "outputs": [],
   "source": [
    "## Update project ID depending on which datasets you are needing to access\n",
    "project_id = 'edr-gfssdm-pr-cah'"
   ]
  },
  {
   "cell_type": "markdown",
   "id": "46c7366a-4c45-46ca-b347-a1c7f0aaff75",
   "metadata": {
    "tags": []
   },
   "source": [
    "## Set Data Query Logic"
   ]
  },
  {
   "cell_type": "markdown",
   "id": "c4e5265c-40fe-48fc-88e1-0e70b4be864b",
   "metadata": {},
   "source": [
    "In the SQL query make sure to only include columns that need to be analyzed from the table where data quality is being checked."
   ]
  },
  {
   "cell_type": "code",
   "execution_count": 7,
   "id": "32d2948e-a5e2-4660-9e3f-25a02efc46ef",
   "metadata": {},
   "outputs": [],
   "source": [
    "table_query = \"\"\"\n",
    "SELECT DISTINCT\n",
    "    KUNNR,\n",
    "    NAME1,\n",
    "    NAME2,\n",
    "    STRAS,\n",
    "    ORT01,\n",
    "    PSTLZ,\n",
    "    REGIO,\n",
    "    LAND1,\n",
    "    KTOKD,\n",
    "    BRSCH,\n",
    "    LOEVM\n",
    "    \n",
    "    \n",
    "    \n",
    "FROM\n",
    "  `edna-data-pr-cah.VI0_PHM_ORP_PE1_PH1_NP.KNA1_CV`\n",
    "LIMIT \n",
    "    100\n",
    "    \n",
    "    \"\"\""
   ]
  },
  {
   "cell_type": "markdown",
   "id": "0c6e15f3-4b5d-4a0a-954e-15af36366cd7",
   "metadata": {},
   "source": [
    "## Load Data"
   ]
  },
  {
   "cell_type": "code",
   "execution_count": 8,
   "id": "28b58df4-c0dd-4197-b7ac-f462a03c4a82",
   "metadata": {},
   "outputs": [],
   "source": [
    "## Pandas read_gbq to read SQL query above and put into a DataFrame\n",
    "table_df = pd.read_gbq(table_query, project_id=project_id, dialect='standard', credentials=credentials)"
   ]
  },
  {
   "cell_type": "code",
   "execution_count": 9,
   "id": "2af135b6-5f17-4da6-bb08-3abe311c49c3",
   "metadata": {},
   "outputs": [
    {
     "data": {
      "text/html": [
       "<div>\n",
       "<style scoped>\n",
       "    .dataframe tbody tr th:only-of-type {\n",
       "        vertical-align: middle;\n",
       "    }\n",
       "\n",
       "    .dataframe tbody tr th {\n",
       "        vertical-align: top;\n",
       "    }\n",
       "\n",
       "    .dataframe thead th {\n",
       "        text-align: right;\n",
       "    }\n",
       "</style>\n",
       "<table border=\"1\" class=\"dataframe\">\n",
       "  <thead>\n",
       "    <tr style=\"text-align: right;\">\n",
       "      <th></th>\n",
       "      <th>KUNNR</th>\n",
       "      <th>NAME1</th>\n",
       "      <th>NAME2</th>\n",
       "      <th>STRAS</th>\n",
       "      <th>ORT01</th>\n",
       "      <th>PSTLZ</th>\n",
       "      <th>REGIO</th>\n",
       "      <th>LAND1</th>\n",
       "      <th>KTOKD</th>\n",
       "      <th>BRSCH</th>\n",
       "      <th>LOEVM</th>\n",
       "    </tr>\n",
       "  </thead>\n",
       "  <tbody>\n",
       "    <tr>\n",
       "      <th>0</th>\n",
       "      <td>2150417241</td>\n",
       "      <td>MISSION DRUG LLC 340B</td>\n",
       "      <td></td>\n",
       "      <td>110 N MAIN ST</td>\n",
       "      <td>SAINT IGNATIUS</td>\n",
       "      <td>59865-9031</td>\n",
       "      <td>MT</td>\n",
       "      <td>US</td>\n",
       "      <td>ZPSH</td>\n",
       "      <td>3401</td>\n",
       "      <td></td>\n",
       "    </tr>\n",
       "    <tr>\n",
       "      <th>1</th>\n",
       "      <td>3000045942</td>\n",
       "      <td>APPLETON HEART INSTITUTE</td>\n",
       "      <td></td>\n",
       "      <td>1818 N MEADE ST</td>\n",
       "      <td>APPLETON</td>\n",
       "      <td>54911</td>\n",
       "      <td>WI</td>\n",
       "      <td>US</td>\n",
       "      <td>Z004</td>\n",
       "      <td></td>\n",
       "      <td></td>\n",
       "    </tr>\n",
       "    <tr>\n",
       "      <th>2</th>\n",
       "      <td>2100061672</td>\n",
       "      <td>BAMF HEALTH INC</td>\n",
       "      <td></td>\n",
       "      <td>109 MICHIGAN ST NW</td>\n",
       "      <td>GRAND RAPIDS</td>\n",
       "      <td>49503-3790</td>\n",
       "      <td>MI</td>\n",
       "      <td>US</td>\n",
       "      <td>Z002</td>\n",
       "      <td></td>\n",
       "      <td></td>\n",
       "    </tr>\n",
       "    <tr>\n",
       "      <th>3</th>\n",
       "      <td>3000178072</td>\n",
       "      <td>LEE COMMUNITY HEALTHCARE INC</td>\n",
       "      <td></td>\n",
       "      <td>13279 N CLEVELAND AVE</td>\n",
       "      <td>NORTH FORT MYERS</td>\n",
       "      <td>33903</td>\n",
       "      <td>FL</td>\n",
       "      <td>US</td>\n",
       "      <td>Z004</td>\n",
       "      <td></td>\n",
       "      <td></td>\n",
       "    </tr>\n",
       "    <tr>\n",
       "      <th>4</th>\n",
       "      <td>4000138780</td>\n",
       "      <td>OHIO DEPARTMENT OF MENTAL HEALTH</td>\n",
       "      <td></td>\n",
       "      <td>4000 SURFACE RD</td>\n",
       "      <td>COLUMBUS</td>\n",
       "      <td>43228</td>\n",
       "      <td>OH</td>\n",
       "      <td>US</td>\n",
       "      <td>Z003</td>\n",
       "      <td></td>\n",
       "      <td></td>\n",
       "    </tr>\n",
       "    <tr>\n",
       "      <th>...</th>\n",
       "      <td>...</td>\n",
       "      <td>...</td>\n",
       "      <td>...</td>\n",
       "      <td>...</td>\n",
       "      <td>...</td>\n",
       "      <td>...</td>\n",
       "      <td>...</td>\n",
       "      <td>...</td>\n",
       "      <td>...</td>\n",
       "      <td>...</td>\n",
       "      <td>...</td>\n",
       "    </tr>\n",
       "    <tr>\n",
       "      <th>95</th>\n",
       "      <td>7007308103</td>\n",
       "      <td>KAUFMAN PHARMACY</td>\n",
       "      <td>LOTUS RX INC</td>\n",
       "      <td>70000 CARDINAL PL</td>\n",
       "      <td>DUBLIN</td>\n",
       "      <td>43017</td>\n",
       "      <td>OH</td>\n",
       "      <td>US</td>\n",
       "      <td>ZRNI</td>\n",
       "      <td>OWN</td>\n",
       "      <td></td>\n",
       "    </tr>\n",
       "    <tr>\n",
       "      <th>96</th>\n",
       "      <td>4000106028</td>\n",
       "      <td>SOUTHERN CALIFORNIA HOSPITAL AT VAN</td>\n",
       "      <td></td>\n",
       "      <td>14433 EMELITA ST</td>\n",
       "      <td>VAN NUYS</td>\n",
       "      <td>91401</td>\n",
       "      <td>CA</td>\n",
       "      <td>US</td>\n",
       "      <td>Z003</td>\n",
       "      <td></td>\n",
       "      <td></td>\n",
       "    </tr>\n",
       "    <tr>\n",
       "      <th>97</th>\n",
       "      <td>2100057682</td>\n",
       "      <td>DIGIRAD IMAG SOL COLONIA HEIGHTS</td>\n",
       "      <td></td>\n",
       "      <td>445 CHARLES H DIMMOCK PKWY</td>\n",
       "      <td>COLONIAL HEIGHTS</td>\n",
       "      <td>23834-2990</td>\n",
       "      <td>VA</td>\n",
       "      <td>US</td>\n",
       "      <td>Z002</td>\n",
       "      <td></td>\n",
       "      <td></td>\n",
       "    </tr>\n",
       "    <tr>\n",
       "      <th>98</th>\n",
       "      <td>H00095463</td>\n",
       "      <td>CREEK VALLEY HLTH CLNC</td>\n",
       "      <td></td>\n",
       "      <td>20 N COLVIN ST 0418</td>\n",
       "      <td>COLORADO CITY</td>\n",
       "      <td>86021-6155</td>\n",
       "      <td>AZ</td>\n",
       "      <td>US</td>\n",
       "      <td>ZP12</td>\n",
       "      <td>OWN</td>\n",
       "      <td></td>\n",
       "    </tr>\n",
       "    <tr>\n",
       "      <th>99</th>\n",
       "      <td>H00095462</td>\n",
       "      <td>COMMUNITY OF HOPE PHARMACY OTC</td>\n",
       "      <td></td>\n",
       "      <td>2120 BLADENSBURG RD NE</td>\n",
       "      <td>WASHINGTON</td>\n",
       "      <td>20018-1440</td>\n",
       "      <td>DC</td>\n",
       "      <td>US</td>\n",
       "      <td>ZP12</td>\n",
       "      <td>OWN</td>\n",
       "      <td></td>\n",
       "    </tr>\n",
       "  </tbody>\n",
       "</table>\n",
       "<p>100 rows × 11 columns</p>\n",
       "</div>"
      ],
      "text/plain": [
       "         KUNNR                                NAME1         NAME2  \\\n",
       "0   2150417241                MISSION DRUG LLC 340B                 \n",
       "1   3000045942             APPLETON HEART INSTITUTE                 \n",
       "2   2100061672                      BAMF HEALTH INC                 \n",
       "3   3000178072         LEE COMMUNITY HEALTHCARE INC                 \n",
       "4   4000138780     OHIO DEPARTMENT OF MENTAL HEALTH                 \n",
       "..         ...                                  ...           ...   \n",
       "95  7007308103                     KAUFMAN PHARMACY  LOTUS RX INC   \n",
       "96  4000106028  SOUTHERN CALIFORNIA HOSPITAL AT VAN                 \n",
       "97  2100057682     DIGIRAD IMAG SOL COLONIA HEIGHTS                 \n",
       "98   H00095463               CREEK VALLEY HLTH CLNC                 \n",
       "99   H00095462       COMMUNITY OF HOPE PHARMACY OTC                 \n",
       "\n",
       "                         STRAS             ORT01       PSTLZ REGIO LAND1  \\\n",
       "0                110 N MAIN ST    SAINT IGNATIUS  59865-9031    MT    US   \n",
       "1              1818 N MEADE ST          APPLETON       54911    WI    US   \n",
       "2           109 MICHIGAN ST NW      GRAND RAPIDS  49503-3790    MI    US   \n",
       "3        13279 N CLEVELAND AVE  NORTH FORT MYERS       33903    FL    US   \n",
       "4              4000 SURFACE RD          COLUMBUS       43228    OH    US   \n",
       "..                         ...               ...         ...   ...   ...   \n",
       "95           70000 CARDINAL PL            DUBLIN       43017    OH    US   \n",
       "96            14433 EMELITA ST          VAN NUYS       91401    CA    US   \n",
       "97  445 CHARLES H DIMMOCK PKWY  COLONIAL HEIGHTS  23834-2990    VA    US   \n",
       "98         20 N COLVIN ST 0418     COLORADO CITY  86021-6155    AZ    US   \n",
       "99      2120 BLADENSBURG RD NE        WASHINGTON  20018-1440    DC    US   \n",
       "\n",
       "   KTOKD BRSCH LOEVM  \n",
       "0   ZPSH  3401        \n",
       "1   Z004              \n",
       "2   Z002              \n",
       "3   Z004              \n",
       "4   Z003              \n",
       "..   ...   ...   ...  \n",
       "95  ZRNI   OWN        \n",
       "96  Z003              \n",
       "97  Z002              \n",
       "98  ZP12   OWN        \n",
       "99  ZP12   OWN        \n",
       "\n",
       "[100 rows x 11 columns]"
      ]
     },
     "execution_count": 9,
     "metadata": {},
     "output_type": "execute_result"
    }
   ],
   "source": [
    "table_df"
   ]
  },
  {
   "cell_type": "markdown",
   "id": "6aeaf065-6456-449a-811d-a7178f999f6d",
   "metadata": {},
   "source": [
    "## Data Analysis"
   ]
  },
  {
   "cell_type": "markdown",
   "id": "daf41347-b4e1-4cc2-80d8-a85786c0da1f",
   "metadata": {},
   "source": [
    "### Helper Functions"
   ]
  },
  {
   "cell_type": "markdown",
   "id": "15a5e872-39f7-48b4-af64-71d7e91e8122",
   "metadata": {},
   "source": [
    "Do not change helper functions, these can be run regardless of table"
   ]
  },
  {
   "cell_type": "markdown",
   "id": "b3270f9f-6e56-4378-b4dc-75bb0e525e7a",
   "metadata": {},
   "source": [
    "#### Completeness function"
   ]
  },
  {
   "cell_type": "markdown",
   "id": "28b7b403-f139-4ebd-a54a-b271ff36c4f8",
   "metadata": {},
   "source": [
    "#### Uniqueness function"
   ]
  },
  {
   "cell_type": "markdown",
   "id": "9ac26d45-f6b3-43c2-9a22-ffe36e42dc22",
   "metadata": {},
   "source": [
    "### Critical Data Elements"
   ]
  },
  {
   "cell_type": "code",
   "execution_count": 10,
   "id": "9dd9ef87-cb7c-4e6d-9843-ec63181194f5",
   "metadata": {},
   "outputs": [],
   "source": [
    "## list of critical data elements\n",
    "crt_dt_elem = ['KUNNR','NAME1','STRAS','ORT01','PSTLZ','REGIO','LAND1','KTOKD']"
   ]
  },
  {
   "cell_type": "code",
   "execution_count": 11,
   "id": "2ee4a0a5-698a-4453-a9da-816173b89e87",
   "metadata": {},
   "outputs": [],
   "source": [
    "## list of data elements that need to undergoe uniqueness check\n",
    "nqnss_dt_elem = ['KUNNR']"
   ]
  },
  {
   "cell_type": "markdown",
   "id": "91361a91-66e1-4c82-8c0c-52777168a94a",
   "metadata": {},
   "source": [
    "### Data Metrics"
   ]
  },
  {
   "cell_type": "markdown",
   "id": "32bc3225-69a0-4d2b-9f3e-51e89bc91b28",
   "metadata": {},
   "source": [
    "#### Matrix creation"
   ]
  },
  {
   "cell_type": "markdown",
   "id": "24a8662e-d610-4b41-9f11-9126f07df1d0",
   "metadata": {},
   "source": [
    "default base matrix to use for data quality scoring equation"
   ]
  },
  {
   "cell_type": "code",
   "execution_count": 12,
   "id": "b900e16c",
   "metadata": {},
   "outputs": [
    {
     "ename": "SyntaxError",
     "evalue": "unterminated string literal (detected at line 1) (1580207853.py, line 1)",
     "output_type": "error",
     "traceback": [
      "\u001b[1;36m  Cell \u001b[1;32mIn[12], line 1\u001b[1;36m\u001b[0m\n\u001b[1;33m    child = ut.MatrixConsolidation(table_df, crt_dt_elem, nqnss_dt_elem,\"KNA1)\u001b[0m\n\u001b[1;37m                                                                        ^\u001b[0m\n\u001b[1;31mSyntaxError\u001b[0m\u001b[1;31m:\u001b[0m unterminated string literal (detected at line 1)\n"
     ]
    }
   ],
   "source": [
    "child = ut.MatrixConsolidation(table_df, crt_dt_elem, nqnss_dt_elem,\"KNA1)"
   ]
  },
  {
   "cell_type": "markdown",
   "id": "1432d725-22b5-4fed-bf0b-c722342d3904",
   "metadata": {},
   "source": [
    "##### Missing Data Matrix"
   ]
  },
  {
   "cell_type": "code",
   "execution_count": null,
   "id": "1d00b755",
   "metadata": {},
   "outputs": [],
   "source": [
    "child.def_cmplt_df()"
   ]
  },
  {
   "cell_type": "markdown",
   "id": "4816b0fc-4ff8-49f8-aeef-8760d8cdd321",
   "metadata": {},
   "source": [
    "##### Uniqueness Data Matrix"
   ]
  },
  {
   "cell_type": "code",
   "execution_count": null,
   "id": "076bc378",
   "metadata": {
    "scrolled": true
   },
   "outputs": [],
   "source": [
    "child.def_uniq_df()"
   ]
  },
  {
   "cell_type": "markdown",
   "id": "e956a2df-e04a-4cc6-96d4-d3aea89d4fc9",
   "metadata": {},
   "source": [
    "#### Matrix Consolidation"
   ]
  },
  {
   "cell_type": "code",
   "execution_count": null,
   "id": "01fe49f7",
   "metadata": {},
   "outputs": [],
   "source": [
    "child.dq_df()"
   ]
  },
  {
   "cell_type": "code",
   "execution_count": null,
   "id": "fe7858e5",
   "metadata": {},
   "outputs": [],
   "source": [
    "child.dataset_score()"
   ]
  },
  {
   "cell_type": "markdown",
   "id": "d8e5da82-b462-41e7-ba37-e63695883fb8",
   "metadata": {},
   "source": [
    "### Data Visualization"
   ]
  },
  {
   "cell_type": "code",
   "execution_count": null,
   "id": "9f305821-eedf-4a6e-9758-4577d2cbf7c4",
   "metadata": {},
   "outputs": [],
   "source": [
    "## dataset score card\n",
    "import plotly.graph_objects as go\n",
    "\n",
    "fig_card = go.Figure(go.Indicator(\n",
    "    mode = \"number\",\n",
    "    value = dataset_score.KNA1_SCORE.iloc[0],\n",
    "    number = {'suffix': \"%\"},\n",
    "    title = {\"text\": \"Dataset Score<br><span style='font-size:0.8em;color:gray'>KNA1</span>\"},\n",
    "    ))\n",
    "\n",
    "fig_card.update_layout(paper_bgcolor = \"lightgray\")\n",
    "\n",
    "fig_card.show()"
   ]
  },
  {
   "cell_type": "code",
   "execution_count": null,
   "id": "86c80335-7e48-432c-8f32-d701c827b507",
   "metadata": {},
   "outputs": [],
   "source": [
    "import plotly.express as px\n",
    "\n",
    "fig = px.imshow(dq_df,\n",
    "                labels=dict(x=\"Column\", y=\"Record Number\", color=\"Score\"),\n",
    "                text_auto=True, \n",
    "                zmin=0, \n",
    "                zmax=1, \n",
    "                color_continuous_scale=[\"red\", \"yellow\", \"green\"])\n",
    "\n",
    "fig.update_layout(\n",
    "    title='KNA1 Heatmap',\n",
    "    title_x=0.5)\n",
    "\n",
    "fig.show()"
   ]
  },
  {
   "cell_type": "code",
   "execution_count": null,
   "id": "b2fc9a43",
   "metadata": {},
   "outputs": [],
   "source": []
  }
 ],
 "metadata": {
  "kernelspec": {
   "display_name": "Python 3 (ipykernel)",
   "language": "python",
   "name": "python3"
  },
  "language_info": {
   "codemirror_mode": {
    "name": "ipython",
    "version": 3
   },
   "file_extension": ".py",
   "mimetype": "text/x-python",
   "name": "python",
   "nbconvert_exporter": "python",
   "pygments_lexer": "ipython3",
   "version": "3.10.9"
  }
 },
 "nbformat": 4,
 "nbformat_minor": 5
}
